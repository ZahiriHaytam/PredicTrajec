{
 "cells": [
  {
   "cell_type": "markdown",
   "metadata": {},
   "source": [
    "## Planning"
   ]
  },
  {
   "cell_type": "markdown",
   "metadata": {},
   "source": [
    "** Semaine 1 : Réaliser des prédictions simple après avoir récuperer des données de https://github.com/AmigoCap/GPSFlow/ **"
   ]
  },
  {
   "cell_type": "markdown",
   "metadata": {},
   "source": [
    "* Elaborer un premier notebook simple de prédiction./n"
    "* Etant donné un nombre de points, faire un curve fiting et realiser les prédictions des N points suivants./n"
    "* Etant donné N points, chercher la trajectoire existante la plus similaire/probable (Distance euclédienne)./n"
   ]
  },
  {
   "cell_type": "markdown",
   "metadata": {},
   "source": [
    "** Semaine 3 : Prédiction avec donnés non-spatiales **"
   ]
  },
  {
   "cell_type": "markdown",
   "metadata": {},
   "source": [
    "* Utiliser des données non-spatiales tout comme l'heure, la météo ou la vitesse de déplacement par exemple pour réaliser les prédictions./n"
    "* Combiner les données non-spatiales utlisées avec des similarités spatiales./n"
   ]
  },
  {
   "cell_type": "markdown",
   "metadata": {},
   "source": [
    "** Semaine 4 : Machine Learning + étendre le jeu de données **"
   ]
  },
  {
   "cell_type": "markdown",
   "metadata": {},
   "source": [
    "* Etat de l’art/discussion méthodes d’apprentissage./n"
    "* Création d'un jeu de données./n"    
    "* Utiliser OpenStreetMap (trajectoires GPS sur Lyon) pour pouvoir generer non propres données./n"
    "* Data augmentation (ajout de randomness)./n"
   ]
  },
 ],
 "metadata": {
  "kernelspec": {
   "display_name": "Python 3",
   "language": "python",
   "name": "python3"
  },
  "language_info": {
   "codemirror_mode": {
    "name": "ipython",
    "version": 3
   },
   "file_extension": ".py",
   "mimetype": "text/x-python",
   "name": "python",
   "nbconvert_exporter": "python",
   "pygments_lexer": "ipython3",
   "version": "3.6.4"
  }
 },
 "nbformat": 4,
 "nbformat_minor": 2
}
